{
 "cells": [
  {
   "cell_type": "markdown",
   "id": "theoretical-slovak",
   "metadata": {},
   "source": [
    "1a. Hardcode lines\n",
    "1b. Read DXF file, convert to points\n",
    "\n",
    "2. Print process: \n",
    "    - Rapid to location\n",
    "    - Drop down \n",
    "    - Start pressure \n",
    "    - Pause start_delay\n",
    "    - Move to second point "
   ]
  },
  {
   "cell_type": "code",
   "execution_count": null,
   "id": "bacterial-perfume",
   "metadata": {},
   "outputs": [],
   "source": []
  },
  {
   "cell_type": "code",
   "execution_count": 2,
   "id": "loose-sensitivity",
   "metadata": {},
   "outputs": [
    {
     "name": "stdout",
     "output_type": "stream",
     "text": [
      "[(0, 0), (10, 0), (10, 10), (0, 10), (0, 0)]\n",
      "(0, 0)\n",
      "(10, 0)\n",
      "(10, 10)\n",
      "(0, 10)\n",
      "(0, 0)\n",
      "[(0, 0), (10, 10)]\n",
      "(0, 0)\n",
      "(10, 10)\n"
     ]
    }
   ],
   "source": [
    "test_lines = [[(0,0), (10,0), (10,10), (0,10), (0,0)], [(0,0), (10,10)]]\n",
    "\n",
    "for line in test_lines:\n",
    "    \n",
    "    print('Rapid to: {} {} {}'.format(point[0], point[1]))\n",
    "    \n",
    "    for point in line: \n",
    "        #print(point)\n",
    "        print('Rapid to: {} {} {}'.format(point[0], point[1]))"
   ]
  },
  {
   "cell_type": "code",
   "execution_count": null,
   "id": "developing-decrease",
   "metadata": {},
   "outputs": [],
   "source": []
  }
 ],
 "metadata": {
  "kernelspec": {
   "display_name": "Python 3",
   "language": "python",
   "name": "python3"
  },
  "language_info": {
   "codemirror_mode": {
    "name": "ipython",
    "version": 3
   },
   "file_extension": ".py",
   "mimetype": "text/x-python",
   "name": "python",
   "nbconvert_exporter": "python",
   "pygments_lexer": "ipython3",
   "version": "3.7.3"
  }
 },
 "nbformat": 4,
 "nbformat_minor": 5
}
