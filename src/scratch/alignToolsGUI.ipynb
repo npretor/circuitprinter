{
 "cells": [
  {
   "cell_type": "code",
   "execution_count": 3,
   "id": "otherwise-roulette",
   "metadata": {},
   "outputs": [],
   "source": [
    "import ipywidgets as widgets\n",
    "from ipywidgets import Button, HBox, VBox"
   ]
  },
  {
   "cell_type": "code",
   "execution_count": 11,
   "id": "opponent-weight",
   "metadata": {},
   "outputs": [
    {
     "data": {
      "application/vnd.jupyter.widget-view+json": {
       "model_id": "c00e12cebdd04b5ba22c0f6efb5b3d2f",
       "version_major": 2,
       "version_minor": 0
      },
      "text/plain": [
       "HBox(children=(VBox(children=(Button(description='X -10.0', style=ButtonStyle()), Button(description='X -1.0',…"
      ]
     },
     "metadata": {},
     "output_type": "display_data"
    },
    {
     "data": {
      "application/vnd.jupyter.widget-view+json": {
       "model_id": "e93c1c69195744128c32b220b931ba21",
       "version_major": 2,
       "version_minor": 0
      },
      "text/plain": [
       "Output()"
      ]
     },
     "metadata": {},
     "output_type": "display_data"
    },
    {
     "data": {
      "text/plain": [
       "\"\\nb_x_fast_neg.on_click(x_fast_neg)\\nb_x_slow_neg.on_click(x_slow_neg)\\nb_x_slow_pos.on_click(x_slow_pos)\\nb_x_fast_pos.on_click(x_fast_pos)\\n\\ndef x_fast_neg(b):\\n    print('x_fast_neg')\\ndef x_slow_neg(b):\\n    print('x_slow_neg')\\ndef x_slow_pos(b):\\n    print('x_slow_pos')\\ndef x_fast_pos(b):\\n    print('x_fast_neg')\\n \""
      ]
     },
     "execution_count": 11,
     "metadata": {},
     "output_type": "execute_result"
    }
   ],
   "source": [
    "speed_f = 10.0\n",
    "speed_s = 1.0\n",
    "\n",
    "x = ['X {}'.format(-speed_f), 'X {}'.format(-speed_s), 'X {}'.format(speed_s), 'X {}'.format(speed_f)]\n",
    "\n",
    "items = [Button(description=w) for w in x]\n",
    "left_box = VBox([items[0], items[1]])\n",
    "right_box = VBox([items[2], items[3]])\n",
    "buttons = HBox([left_box, right_box])\n",
    "output = widgets.Output()\n",
    "\n",
    "display(buttons, output)\n",
    "\n",
    "'''\n",
    "b_x_fast_neg.on_click(x_fast_neg)\n",
    "b_x_slow_neg.on_click(x_slow_neg)\n",
    "b_x_slow_pos.on_click(x_slow_pos)\n",
    "b_x_fast_pos.on_click(x_fast_pos)\n",
    "\n",
    "def x_fast_neg(b):\n",
    "    print('x_fast_neg')\n",
    "def x_slow_neg(b):\n",
    "    print('x_slow_neg')\n",
    "def x_slow_pos(b):\n",
    "    print('x_slow_pos')\n",
    "def x_fast_pos(b):\n",
    "    print('x_fast_neg')\n",
    " '''\n",
    "    "
   ]
  },
  {
   "cell_type": "code",
   "execution_count": null,
   "id": "possible-saturn",
   "metadata": {},
   "outputs": [],
   "source": []
  }
 ],
 "metadata": {
  "kernelspec": {
   "display_name": "Python 3",
   "language": "python",
   "name": "python3"
  },
  "language_info": {
   "codemirror_mode": {
    "name": "ipython",
    "version": 3
   },
   "file_extension": ".py",
   "mimetype": "text/x-python",
   "name": "python",
   "nbconvert_exporter": "python",
   "pygments_lexer": "ipython3",
   "version": "3.7.3"
  }
 },
 "nbformat": 4,
 "nbformat_minor": 5
}
