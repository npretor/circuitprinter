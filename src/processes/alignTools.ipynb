{
 "cells": [
  {
   "cell_type": "markdown",
   "metadata": {},
   "source": [
    " # Align each tool by: \n",
    "   1. Moving each to a preset calibration location \n",
    "   2. Do something to mark the location\n",
    "       - Print a crosshair first? \n",
    "       - Move the camera to the crosshair\n",
    "   3. Set the camera as the zero point of the reference geometry, makes calibration easier \n",
    "Start simple with a manual alignment to a point, later on use the camera to refine"
   ]
  },
  {
   "cell_type": "code",
   "execution_count": 4,
   "metadata": {},
   "outputs": [],
   "source": [
    "# Import motion \n",
    "import os \n",
    "import json \n",
    "# Add hardware folder to path \n",
    "import sys\n",
    "#sys.path.append('../')\n",
    "#from hardware import idsMotionClient "
   ]
  },
  {
   "cell_type": "markdown",
   "metadata": {},
   "source": [
    "### Initialize"
   ]
  },
  {
   "cell_type": "code",
   "execution_count": 7,
   "metadata": {},
   "outputs": [
    {
     "name": "stdout",
     "output_type": "stream",
     "text": [
      "{'tools': {'Pneumatic extruder 1': {'is_active': 1, 'last_offset:': {'x': 0.0, 'y': 0.0, 'z': 0.0}}, 'Pneumatic extruder 2': {'is_active': 1, 'last_offset:': {'x': 0.0, 'y': 0.0, 'z': 0.0}}, 'Stepper extruder 1': {'is_active': 1, 'last_offset:': {'x': 0.0, 'y': 0.0, 'z': 0.0}}, 'tool_camera': {'is_active': 1, 'last_offset:': {'x': 0.0, 'y': 0.0, 'z': 13.0}}}, 'z_cal_location': {'x': 272.6, 'y': 173.1, 'z': 5.0}, 'rapid_height': 3, 'light_control_pin': 4, 'tip_height': -1.3}\n"
     ]
    }
   ],
   "source": [
    "# Connect to motion\n",
    "#ids = idsMotionClient.MotionClient()\n",
    "\n",
    "# Import settings\n",
    "with open(os.path.join('/home/pi/hubgit/circuitprinter/src/config', 'machine_settings.json')) as f:\n",
    "    \n",
    "    data = json.load(f)\n",
    "\n",
    "print(data)"
   ]
  },
  {
   "cell_type": "markdown",
   "metadata": {},
   "source": [
    "### Start the camera"
   ]
  },
  {
   "cell_type": "code",
   "execution_count": 10,
   "metadata": {},
   "outputs": [],
   "source": [
    "#from jetcam.usb_camera import USBCamera\n",
    "import ipywidgets\n",
    "from IPython.display import display\n",
    "#from jetcam.utils import bgr8_to_jpeg\n",
    "from uuid import uuid1\n",
    "import os \n",
    "import picamera"
   ]
  },
  {
   "cell_type": "code",
   "execution_count": null,
   "metadata": {},
   "outputs": [],
   "source": [
    "# Full reset of the camera\n",
    "#!\"echo 'jayhawk.1' | sudo -S systemctl restart nvargus-daemon && printf '\\n'\"\n",
    "#!ls -ltrh /dev/video*\n",
    "#image_path = os.path.join('./images/', str(uuid1()) + '.jpg') \n",
    "\n",
    "# Functions\n",
    "def save_image(img, image_path):\n",
    "    with open(image_path, 'wb') as f:\n",
    "        f.write(image.value)\n",
    "\n",
    "# Initialize camera\n",
    "# Device 0 is the dinolite \n",
    "# camera = USBCamera(width=224, height=224, capture_width=640, capture_height=480, capture_device=0)\n",
    "\n",
    "# Device 1 is the logitech\n",
    "camera = USBCamera(width=640, height=480, capture_width=640, capture_height=480, capture_device=1)\n",
    "image = camera.read()\n",
    "print(camera.value.shape)\n",
    "image_widget = ipywidgets.Image(format='jpeg')\n",
    "image_widget.value = bgr8_to_jpeg(image)\n",
    "#display(image_widget)\n",
    "camera.running = True\n",
    "\n",
    "def update_image(change):\n",
    "    image = change['new']\n",
    "    image_widget.value = bgr8_to_jpeg(image)\n",
    "    \n",
    "camera.observe(update_image, names='value')\n"
   ]
  },
  {
   "cell_type": "code",
   "execution_count": null,
   "metadata": {},
   "outputs": [],
   "source": [
    "camera.unobserve(update_image, names='value')"
   ]
  },
  {
   "cell_type": "markdown",
   "metadata": {},
   "source": [
    "### Create a GUI"
   ]
  },
  {
   "cell_type": "code",
   "execution_count": 1,
   "metadata": {},
   "outputs": [],
   "source": [
    "from ipywidgets import Button, HBox, VBox, Label, Output"
   ]
  },
  {
   "cell_type": "code",
   "execution_count": 2,
   "metadata": {},
   "outputs": [
    {
     "data": {
      "application/vnd.jupyter.widget-view+json": {
       "model_id": "8694c62504ca40cbbca8f3706c116135",
       "version_major": 2,
       "version_minor": 0
      },
      "text/plain": [
       "Output()"
      ]
     },
     "metadata": {},
     "output_type": "display_data"
    },
    {
     "data": {
      "application/vnd.jupyter.widget-view+json": {
       "model_id": "cc5d8134ccd34c0d912981d3fe8d3f4e",
       "version_major": 2,
       "version_minor": 0
      },
      "text/plain": [
       "VBox(children=(HBox(children=(Label(value=' X Axis  '), Button(description='-20', style=ButtonStyle()), Button…"
      ]
     },
     "metadata": {},
     "output_type": "display_data"
    },
    {
     "data": {
      "application/vnd.jupyter.widget-view+json": {
       "model_id": "9851c749e5c0447ca8847bb476bec876",
       "version_major": 2,
       "version_minor": 0
      },
      "text/plain": [
       "HBox(children=(Label(value='Fiducials'), Button(description='Save fiducial 1', style=ButtonStyle()), Button(de…"
      ]
     },
     "metadata": {},
     "output_type": "display_data"
    }
   ],
   "source": [
    "# Define speeds \n",
    "fast = 20\n",
    "slow = 2\n",
    "\n",
    "output = Output()\n",
    "\n",
    "speeds = [str(-fast), str(-slow), str(slow), str(fast)]\n",
    "xitems = [Button(description=w) for w in speeds]\n",
    "yitems = [Button(description=w) for w in speeds]\n",
    "zitems = [Button(description=w) for w in speeds]\n",
    "\n",
    "fiducial_1_btn = Button(description=\"Save fiducial 1\")\n",
    "fiducial_2_btn = Button(description=\"Save fiducial 2\")\n",
    "\n",
    "xbox = HBox([Label(value=\" X Axis  \"), xitems[0], xitems[1], xitems[2], xitems[3]])\n",
    "ybox = HBox([Label(value=\" Y Axis  \"), yitems[0], yitems[1], yitems[2], yitems[3]])\n",
    "zbox = HBox([Label(value=\" Z Axis  \"), zitems[0], zitems[1], zitems[2], zitems[3]])\n",
    "fiducial_save_box = HBox( [Label(value=\"Fiducials\"), fiducial_1_btn, fiducial_2_btn])\n",
    "direction_control = VBox([xbox, ybox, zbox])\n",
    "\n",
    "\n",
    "display(output, direction_control, fiducial_save_box)"
   ]
  },
  {
   "cell_type": "markdown",
   "metadata": {},
   "source": [
    "### Motion control\n",
    "Move to location"
   ]
  },
  {
   "cell_type": "code",
   "execution_count": null,
   "metadata": {},
   "outputs": [],
   "source": [
    "# - - - - - - - - Motion control - - - - - - - - # \n",
    "def x_fast_neg(b):\n",
    "    motion.moveRel((-fast,0,0))\n",
    "def x_slow_neg(b):\n",
    "    motion.moveRel((-slow,0,0))\n",
    "def x_slow_pos(b):\n",
    "    motion.moveRel((slow,0,0))\n",
    "def x_fast_pos(b):\n",
    "    motion.moveRel((fast,0,0))\n",
    "    \n",
    "def y_fast_neg(b):\n",
    "    motion.moveRel((0,-fast,0))\n",
    "def y_slow_neg(b):\n",
    "    motion.moveRel((0,-slow,0))\n",
    "def y_slow_pos(b):\n",
    "    motion.moveRel((0,slow,0))\n",
    "def y_fast_pos(b):    \n",
    "    motion.moveRel((0,fast,0))\n",
    "    \n",
    "def z_fast_neg(b):\n",
    "    motion.moveRel((0,0,-fast))\n",
    "def z_slow_neg(b):\n",
    "    motion.moveRel((0,0,-slow))\n",
    "def z_slow_pos(b):\n",
    "    motion.moveRel((0,0,slow))\n",
    "def z_fast_pos(b):\n",
    "    motion.moveRel((0,0,fast))\n",
    "\n",
    "def btn1click(b):\n",
    "    (fid1x, fid1y) = motion.currentLocation()\n",
    "    \n",
    "def btn2click(b):\n",
    "    (fid2x, fid2y) = motion.currentLocation()\n",
    "\n",
    "xitems[0].on_click(x_fast_neg)\n",
    "xitems[1].on_click(x_slow_neg)\n",
    "xitems[2].on_click(x_slow_pos)\n",
    "xitems[3].on_click(x_fast_pos)\n",
    "\n",
    "yitems[0].on_click(y_fast_neg)\n",
    "yitems[1].on_click(y_slow_neg)\n",
    "yitems[2].on_click(y_slow_pos)\n",
    "yitems[3].on_click(y_fast_pos)\n",
    "\n",
    "zitems[0].on_click(z_fast_neg)\n",
    "zitems[1].on_click(z_slow_neg)\n",
    "zitems[2].on_click(z_slow_pos)\n",
    "zitems[3].on_click(z_fast_pos) \n",
    "\n",
    "fiducial_1_btn.onclick(btn1click)\n",
    "fiducial_2_btn.onclick(btn2click)"
   ]
  },
  {
   "cell_type": "code",
   "execution_count": null,
   "metadata": {},
   "outputs": [],
   "source": [
    "### Save the location "
   ]
  }
 ],
 "metadata": {
  "kernelspec": {
   "display_name": "Python 3",
   "language": "python",
   "name": "python3"
  },
  "language_info": {
   "codemirror_mode": {
    "name": "ipython",
    "version": 3
   },
   "file_extension": ".py",
   "mimetype": "text/x-python",
   "name": "python",
   "nbconvert_exporter": "python",
   "pygments_lexer": "ipython3",
   "version": "3.7.3"
  }
 },
 "nbformat": 4,
 "nbformat_minor": 4
}
